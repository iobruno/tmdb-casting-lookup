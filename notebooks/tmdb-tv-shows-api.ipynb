{
 "cells": [
  {
   "cell_type": "markdown",
   "metadata": {},
   "source": [
    "# TV Show API"
   ]
  },
  {
   "cell_type": "code",
   "execution_count": 93,
   "metadata": {},
   "outputs": [],
   "source": [
    "import os\n",
    "import requests as r\n",
    "from PIL import Image\n",
    "from IPython.display import display"
   ]
  },
  {
   "cell_type": "code",
   "execution_count": 94,
   "metadata": {},
   "outputs": [],
   "source": [
    "bearer_token = os.environ['TMDB_API_KEY']"
   ]
  },
  {
   "cell_type": "markdown",
   "metadata": {},
   "source": [
    "### TV Discovery"
   ]
  },
  {
   "cell_type": "code",
   "execution_count": 95,
   "metadata": {},
   "outputs": [],
   "source": [
    "tv_discovery = r.get(\"https://api.themoviedb.org/3/discover/tv?first_air_date.gte=2019-05-15&first_air_date.lte=2021-02-01&sort_by=first_air_date.desc\", \n",
    "                     headers = {\"Authorization\": f\"Bearer {bearer_token}\"}).json()\n"
   ]
  },
  {
   "cell_type": "code",
   "execution_count": 96,
   "metadata": {},
   "outputs": [],
   "source": [
    "tv_results = tv_discovery.get('results')"
   ]
  },
  {
   "cell_type": "code",
   "execution_count": 97,
   "metadata": {},
   "outputs": [
    {
     "data": {
      "text/plain": [
       "{'backdrop_path': None,\n",
       " 'first_air_date': '2021-02-01',\n",
       " 'genre_ids': [10764, 35],\n",
       " 'id': 117997,\n",
       " 'name': 'Holey Moley (Australia)',\n",
       " 'origin_country': [],\n",
       " 'original_language': 'en',\n",
       " 'original_name': 'Holey Moley (Australia)',\n",
       " 'overview': 'Holey Moley is a whimsical land where mini golf and massive fun is par for the course!\\n\\nAustralia’s most skilled and passionate golfers will come from across the land to take on the most epic mini golf course ever created, but only a new breed of contender will survive this competition.\\n\\nTowering windmills, fire-breathing dragons, shark-infested lagoons and a giant sausage – it’s the course that has everything. No inch of astroturf has been left unturned in creating this unmatched test of precision putting and stamina.\\n\\nLegendary golfer Greg Norman, popular presenter Sonia Kruger, American actor/comedian Rob Riggle and Matt Shirvington will take audiences through the toughest mini golf competition on the planet.',\n",
       " 'popularity': 0,\n",
       " 'poster_path': None,\n",
       " 'vote_average': 0,\n",
       " 'vote_count': 0}"
      ]
     },
     "execution_count": 97,
     "metadata": {},
     "output_type": "execute_result"
    }
   ],
   "source": [
    "tv_results[0]"
   ]
  },
  {
   "cell_type": "markdown",
   "metadata": {},
   "source": [
    "### TV Show Details"
   ]
  },
  {
   "cell_type": "code",
   "execution_count": 107,
   "metadata": {},
   "outputs": [],
   "source": [
    "tv_show_details = r.get(\"https://api.themoviedb.org/3/tv/71712?append_to_response=credits,images,external_ids&language=pt-br\", \n",
    "                        headers = {\"Authorization\": f\"Bearer {bearer_token}\"}).json()\n"
   ]
  },
  {
   "cell_type": "code",
   "execution_count": 108,
   "metadata": {},
   "outputs": [],
   "source": [
    "tv_seasons = tv_show_details.get('seasons')\n",
    "tv_casting = tv_show_details.get('credits')\n",
    "tv_images = tv_show_details.get('images')\n",
    "tv_external_ids = tv_show_details.get('external_ids')"
   ]
  },
  {
   "cell_type": "code",
   "execution_count": 110,
   "metadata": {},
   "outputs": [
    {
     "data": {
      "text/plain": [
       "{'imdb_id': 'tt6470478',\n",
       " 'freebase_mid': None,\n",
       " 'freebase_id': None,\n",
       " 'tvdb_id': 328634,\n",
       " 'tvrage_id': None,\n",
       " 'facebook_id': 'TheGoodDoctorABC',\n",
       " 'instagram_id': 'thegooddoctorabc',\n",
       " 'twitter_id': 'GoodDoctorABC'}"
      ]
     },
     "execution_count": 110,
     "metadata": {},
     "output_type": "execute_result"
    }
   ],
   "source": [
    "tv_external_ids"
   ]
  },
  {
   "cell_type": "code",
   "execution_count": 109,
   "metadata": {},
   "outputs": [
    {
     "data": {
      "text/plain": [
       "{'backdrop_path': '/mZjZgY6ObiKtVuKVDrnS9VnuNlE.jpg',\n",
       " 'created_by': [{'id': 169061,\n",
       "   'credit_id': '5918e7e4925141583c04b400',\n",
       "   'name': 'David Shore',\n",
       "   'gender': 2,\n",
       "   'profile_path': '/yUwAL9wOJoS9caz9GusyHsrad8J.jpg'}],\n",
       " 'episode_run_time': [43],\n",
       " 'first_air_date': '2017-09-25',\n",
       " 'genres': [{'id': 18, 'name': 'Drama'}],\n",
       " 'homepage': 'http://abc.go.com/shows/the-good-doctor',\n",
       " 'id': 71712,\n",
       " 'in_production': True,\n",
       " 'languages': ['en'],\n",
       " 'last_air_date': '2021-01-25',\n",
       " 'last_episode_to_air': {'air_date': '2021-01-25',\n",
       "  'episode_number': 8,\n",
       "  'id': 2528242,\n",
       "  'name': '',\n",
       "  'overview': '',\n",
       "  'production_code': '',\n",
       "  'season_number': 4,\n",
       "  'still_path': '/bZtr1kRBoaBgYF9SLXc4F9J3c7t.jpg',\n",
       "  'vote_average': 0.0,\n",
       "  'vote_count': 0},\n",
       " 'name': 'The Good Doctor: O Bom Doutor',\n",
       " 'next_episode_to_air': {'air_date': '2021-02-15',\n",
       "  'episode_number': 9,\n",
       "  'id': 2528243,\n",
       "  'name': '',\n",
       "  'overview': '',\n",
       "  'production_code': '',\n",
       "  'season_number': 4,\n",
       "  'still_path': '/cQrwaJQao2PPcGRjHUzTKHpWD9O.jpg',\n",
       "  'vote_average': 0.0,\n",
       "  'vote_count': 0},\n",
       " 'networks': [{'name': 'ABC',\n",
       "   'id': 2,\n",
       "   'logo_path': '/ndAvF4JLsliGreX87jAc9GdjmJY.png',\n",
       "   'origin_country': 'US'}],\n",
       " 'number_of_episodes': 69,\n",
       " 'number_of_seasons': 4,\n",
       " 'origin_country': ['US'],\n",
       " 'original_language': 'en',\n",
       " 'original_name': 'The Good Doctor',\n",
       " 'overview': 'Um jovem médico com autismo começa a trabalhar em um famoso hospital. Além dos desafios da profissão, ele terá também que provar sua capacidade a seus colegas e superiores.',\n",
       " 'popularity': 951.395,\n",
       " 'poster_path': '/jtLB7xJKcbekmOYkb5NZditBsgk.jpg',\n",
       " 'production_companies': [{'id': 19366,\n",
       "   'logo_path': '/vOH8dyQhLK01pg5fYkgiS31jlFm.png',\n",
       "   'name': 'ABC Studios',\n",
       "   'origin_country': 'US'},\n",
       "  {'id': 90375, 'logo_path': None, 'name': '3AD', 'origin_country': 'US'},\n",
       "  {'id': 11073,\n",
       "   'logo_path': '/wHs44fktdoj6c378ZbSWfzKsM2Z.png',\n",
       "   'name': 'Sony Pictures Television',\n",
       "   'origin_country': 'US'}],\n",
       " 'production_countries': [{'iso_3166_1': 'US',\n",
       "   'name': 'United States of America'}],\n",
       " 'seasons': [{'air_date': '2017-09-24',\n",
       "   'episode_count': 18,\n",
       "   'id': 88380,\n",
       "   'name': 'Temporada 1',\n",
       "   'overview': '',\n",
       "   'poster_path': '/pvACsDRyev1JvySM62gezP0eeKk.jpg',\n",
       "   'season_number': 1},\n",
       "  {'air_date': '2018-09-23',\n",
       "   'episode_count': 18,\n",
       "   'id': 107199,\n",
       "   'name': 'Temporada 2',\n",
       "   'overview': '',\n",
       "   'poster_path': '/8jCAsFfoBnJSmC8af8BhUR5xx6X.jpg',\n",
       "   'season_number': 2},\n",
       "  {'air_date': '2019-09-22',\n",
       "   'episode_count': 20,\n",
       "   'id': 127097,\n",
       "   'name': 'Temporada 3',\n",
       "   'overview': '',\n",
       "   'poster_path': '/zmffGw2FfsSZPoOCPfydcPbz1rH.jpg',\n",
       "   'season_number': 3},\n",
       "  {'air_date': '2020-11-02',\n",
       "   'episode_count': 13,\n",
       "   'id': 163383,\n",
       "   'name': 'Temporada 4',\n",
       "   'overview': '',\n",
       "   'poster_path': '/jtLB7xJKcbekmOYkb5NZditBsgk.jpg',\n",
       "   'season_number': 4}],\n",
       " 'spoken_languages': [{'english_name': 'English',\n",
       "   'iso_639_1': 'en',\n",
       "   'name': 'English'}],\n",
       " 'status': 'Returning Series',\n",
       " 'tagline': 'Sua mente é um mistério, seus métodos são um milagre.',\n",
       " 'type': 'Scripted',\n",
       " 'vote_average': 8.6,\n",
       " 'vote_count': 6630,\n",
       " 'credits': {'cast': [{'adult': False,\n",
       "    'gender': 2,\n",
       "    'id': 1281,\n",
       "    'known_for_department': 'Acting',\n",
       "    'name': 'Freddie Highmore',\n",
       "    'original_name': 'Freddie Highmore',\n",
       "    'popularity': 17.615,\n",
       "    'profile_path': '/4haqYYQJFhFe9Poqb26Xpuj1VJk.jpg',\n",
       "    'character': 'Shaun Murphy',\n",
       "    'credit_id': '5918e8ecc3a368371b03d660',\n",
       "    'order': 0},\n",
       "   {'adult': False,\n",
       "    'gender': 1,\n",
       "    'id': 221981,\n",
       "    'known_for_department': 'Acting',\n",
       "    'name': 'Antonia Thomas',\n",
       "    'original_name': 'Antonia Thomas',\n",
       "    'popularity': 5.761,\n",
       "    'profile_path': '/ybmnPYUzcr3RMdaXnZIw2jEw9ju.jpg',\n",
       "    'character': 'Claire Browne',\n",
       "    'credit_id': '5918ea02c3a368371b03d746',\n",
       "    'order': 1},\n",
       "   {'adult': False,\n",
       "    'gender': 1,\n",
       "    'id': 1233749,\n",
       "    'known_for_department': 'Acting',\n",
       "    'name': 'Fiona Gubelmann',\n",
       "    'original_name': 'Fiona Gubelmann',\n",
       "    'popularity': 8.217,\n",
       "    'profile_path': '/1uCq9XB6DeCVWo3EO0txqizUB3P.jpg',\n",
       "    'character': 'Morgan Reznick',\n",
       "    'credit_id': '5a9dc9270e0a2671f5005cdf',\n",
       "    'order': 2},\n",
       "   {'adult': False,\n",
       "    'gender': 2,\n",
       "    'id': 10884,\n",
       "    'known_for_department': 'Acting',\n",
       "    'name': 'Will Yun Lee',\n",
       "    'original_name': 'Will Yun Lee',\n",
       "    'popularity': 4.145,\n",
       "    'profile_path': '/uFEQ7JW5GFvRinOMPaVBn4epcar.jpg',\n",
       "    'character': 'Alex Park',\n",
       "    'credit_id': '5a9dc9189251411030005990',\n",
       "    'order': 3},\n",
       "   {'adult': False,\n",
       "    'gender': 1,\n",
       "    'id': 1215689,\n",
       "    'known_for_department': 'Acting',\n",
       "    'name': 'Christina Chang',\n",
       "    'original_name': 'Christina Chang',\n",
       "    'popularity': 4.614,\n",
       "    'profile_path': '/p1m4Da7ZOt6BOcXy4T58Mu3jAY3.jpg',\n",
       "    'character': 'Audrey Lim',\n",
       "    'credit_id': '5b9331980e0a2619850005c4',\n",
       "    'order': 4},\n",
       "   {'adult': False,\n",
       "    'gender': 1,\n",
       "    'id': 1454610,\n",
       "    'known_for_department': 'Acting',\n",
       "    'name': 'Paige Spara',\n",
       "    'original_name': 'Paige Spara',\n",
       "    'popularity': 6.913,\n",
       "    'profile_path': '/fvw957j6d1ImrZO7dDhyVqLTPlb.jpg',\n",
       "    'character': 'Lea Dilallo',\n",
       "    'credit_id': '5b9f067e0e0a266384011c77',\n",
       "    'order': 5},\n",
       "   {'adult': False,\n",
       "    'gender': 2,\n",
       "    'id': 57686,\n",
       "    'known_for_department': 'Acting',\n",
       "    'name': 'Hill Harper',\n",
       "    'original_name': 'Hill Harper',\n",
       "    'popularity': 1.956,\n",
       "    'profile_path': '/bUzVvgD066zYGJ9amJzgoGivlqD.jpg',\n",
       "    'character': 'Marcus Andrews',\n",
       "    'credit_id': '5918e8fd925141585204c6e5',\n",
       "    'order': 6},\n",
       "   {'adult': False,\n",
       "    'gender': 2,\n",
       "    'id': 31028,\n",
       "    'known_for_department': 'Acting',\n",
       "    'name': 'Richard Schiff',\n",
       "    'original_name': 'Richard Schiff',\n",
       "    'popularity': 1.523,\n",
       "    'profile_path': '/cHYHhPvyznOJrw0yEqndhYK2GnQ.jpg',\n",
       "    'character': 'Aaron Glassman',\n",
       "    'credit_id': '5918ea14c3a3683fb6047852',\n",
       "    'order': 7}],\n",
       "  'crew': []},\n",
       " 'images': {'backdrops': [], 'posters': []},\n",
       " 'external_ids': {'imdb_id': 'tt6470478',\n",
       "  'freebase_mid': None,\n",
       "  'freebase_id': None,\n",
       "  'tvdb_id': 328634,\n",
       "  'tvrage_id': None,\n",
       "  'facebook_id': 'TheGoodDoctorABC',\n",
       "  'instagram_id': 'thegooddoctorabc',\n",
       "  'twitter_id': 'GoodDoctorABC'}}"
      ]
     },
     "execution_count": 109,
     "metadata": {},
     "output_type": "execute_result"
    }
   ],
   "source": [
    "tv_show_details"
   ]
  },
  {
   "cell_type": "markdown",
   "metadata": {},
   "source": [
    "### TV Show Casting"
   ]
  },
  {
   "cell_type": "code",
   "execution_count": 101,
   "metadata": {},
   "outputs": [
    {
     "data": {
      "text/plain": [
       "{'adult': False,\n",
       " 'gender': 1,\n",
       " 'id': 1622590,\n",
       " 'known_for_department': 'Acting',\n",
       " 'name': 'Bruna Marquezine',\n",
       " 'original_name': 'Bruna Marquezine',\n",
       " 'popularity': 1.4,\n",
       " 'profile_path': '/khP7N9PEC2yYStIv5P3Oc4te5LO.jpg',\n",
       " 'character': 'Catarina',\n",
       " 'credit_id': '5a36a4249251415478050b79',\n",
       " 'order': 2}"
      ]
     },
     "execution_count": 101,
     "metadata": {},
     "output_type": "execute_result"
    }
   ],
   "source": [
    "character = tv_show_casting_results[2]\n",
    "character"
   ]
  },
  {
   "cell_type": "markdown",
   "metadata": {},
   "source": [
    "### TV Show - Actor Profile Image"
   ]
  },
  {
   "cell_type": "code",
   "execution_count": 102,
   "metadata": {},
   "outputs": [],
   "source": [
    "image_url = f\"https://www.themoviedb.org/t/p/w185/{character.get('profile_path')}\""
   ]
  },
  {
   "cell_type": "code",
   "execution_count": 103,
   "metadata": {},
   "outputs": [],
   "source": [
    "image = r.get(image_url, stream=True).raw"
   ]
  },
  {
   "cell_type": "code",
   "execution_count": 104,
   "metadata": {},
   "outputs": [
    {
     "data": {
      "image/png": "[encoded data removed]",
      "text/plain": [
       "<PIL.JpegImagePlugin.JpegImageFile image mode=RGB size=185x278 at 0x7F999404E280>"
      ]
     },
     "metadata": {},
     "output_type": "display_data"
    }
   ],
   "source": [
    "display(Image.open(image))"
   ]
  },
  {
   "cell_type": "markdown",
   "metadata": {},
   "source": [
    "### Configuration"
   ]
  },
  {
   "cell_type": "code",
   "execution_count": 105,
   "metadata": {},
   "outputs": [],
   "source": [
    "config = r.get(\"https://api.themoviedb.org/3/configuration\", \n",
    "               headers = {\"Authorization\": f\"Bearer {bearer_token}\"}).json()"
   ]
  },
  {
   "cell_type": "code",
   "execution_count": 106,
   "metadata": {},
   "outputs": [
    {
     "data": {
      "text/plain": [
       "{'images': {'base_url': 'http://image.tmdb.org/t/p/',\n",
       "  'secure_base_url': 'https://image.tmdb.org/t/p/',\n",
       "  'backdrop_sizes': ['w300', 'w780', 'w1280', 'original'],\n",
       "  'logo_sizes': ['w45', 'w92', 'w154', 'w185', 'w300', 'w500', 'original'],\n",
       "  'poster_sizes': ['w92', 'w154', 'w185', 'w342', 'w500', 'w780', 'original'],\n",
       "  'profile_sizes': ['w45', 'w185', 'h632', 'original'],\n",
       "  'still_sizes': ['w92', 'w185', 'w300', 'original']},\n",
       " 'change_keys': ['adult',\n",
       "  'air_date',\n",
       "  'also_known_as',\n",
       "  'alternative_titles',\n",
       "  'biography',\n",
       "  'birthday',\n",
       "  'budget',\n",
       "  'cast',\n",
       "  'certifications',\n",
       "  'character_names',\n",
       "  'created_by',\n",
       "  'crew',\n",
       "  'deathday',\n",
       "  'episode',\n",
       "  'episode_number',\n",
       "  'episode_run_time',\n",
       "  'freebase_id',\n",
       "  'freebase_mid',\n",
       "  'general',\n",
       "  'genres',\n",
       "  'guest_stars',\n",
       "  'homepage',\n",
       "  'images',\n",
       "  'imdb_id',\n",
       "  'languages',\n",
       "  'name',\n",
       "  'network',\n",
       "  'origin_country',\n",
       "  'original_name',\n",
       "  'original_title',\n",
       "  'overview',\n",
       "  'parts',\n",
       "  'place_of_birth',\n",
       "  'plot_keywords',\n",
       "  'production_code',\n",
       "  'production_companies',\n",
       "  'production_countries',\n",
       "  'releases',\n",
       "  'revenue',\n",
       "  'runtime',\n",
       "  'season',\n",
       "  'season_number',\n",
       "  'season_regular',\n",
       "  'spoken_languages',\n",
       "  'status',\n",
       "  'tagline',\n",
       "  'title',\n",
       "  'translations',\n",
       "  'tvdb_id',\n",
       "  'tvrage_id',\n",
       "  'type',\n",
       "  'video',\n",
       "  'videos']}"
      ]
     },
     "execution_count": 106,
     "metadata": {},
     "output_type": "execute_result"
    }
   ],
   "source": [
    "config"
   ]
  },
  {
   "cell_type": "code",
   "execution_count": null,
   "metadata": {},
   "outputs": [],
   "source": []
  }
 ],
 "metadata": {
  "kernelspec": {
   "display_name": "Python 3",
   "language": "python",
   "name": "python3"
  },
  "language_info": {
   "codemirror_mode": {
    "name": "ipython",
    "version": 3
   },
   "file_extension": ".py",
   "mimetype": "text/x-python",
   "name": "python",
   "nbconvert_exporter": "python",
   "pygments_lexer": "ipython3",
   "version": "3.8.5"
  },
  "toc-autonumbering": false,
  "toc-showcode": false,
  "toc-showmarkdowntxt": false
 },
 "nbformat": 4,
 "nbformat_minor": 4
}
